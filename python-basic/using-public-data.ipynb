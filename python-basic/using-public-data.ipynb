{
 "metadata": {
  "language_info": {
   "codemirror_mode": {
    "name": "ipython",
    "version": 3
   },
   "file_extension": ".py",
   "mimetype": "text/x-python",
   "name": "python",
   "nbconvert_exporter": "python",
   "pygments_lexer": "ipython3",
   "version": "3.7.9-final"
  },
  "orig_nbformat": 2,
  "kernelspec": {
   "name": "python3",
   "display_name": "Python 3",
   "language": "python"
  }
 },
 "nbformat": 4,
 "nbformat_minor": 2,
 "cells": [
  {
   "cell_type": "code",
   "execution_count": null,
   "metadata": {},
   "outputs": [],
   "source": [
    "# !pip install bs4\n",
    "# !pip install finance-datareader"
   ]
  },
  {
   "cell_type": "code",
   "execution_count": 1,
   "metadata": {},
   "outputs": [],
   "source": [
    "import FinanceDataReader as fdr"
   ]
  },
  {
   "cell_type": "code",
   "execution_count": 2,
   "metadata": {},
   "outputs": [],
   "source": [
    "krx_data = fdr.DataReader('KRX', '2010', '2011')"
   ]
  },
  {
   "cell_type": "code",
   "execution_count": null,
   "metadata": {},
   "outputs": [],
   "source": [
    "krx_data.head()"
   ]
  },
  {
   "cell_type": "code",
   "execution_count": 13,
   "metadata": {},
   "outputs": [
    {
     "output_type": "execute_result",
     "data": {
      "text/plain": [
       "   Symbol  Market    Name           Sector             Industry ListingDate  \\\n",
       "0  060310  KOSDAQ      3S    특수 목적용 기계 제조업          반도체 웨이퍼 캐리어  2002-04-23   \n",
       "1  095570   KOSPI  AJ네트웍스  산업용 기계 및 장비 임대업  렌탈(파렛트, OA장비, 건설장비)  2015-08-21   \n",
       "2  006840   KOSPI   AK홀딩스           기타 금융업                 지주사업  1999-08-11   \n",
       "3  054620  KOSDAQ  APS홀딩스           기타 금융업          인터넷 트래픽 솔루션  2001-12-04   \n",
       "4  265520  KOSDAQ   AP시스템    특수 목적용 기계 제조업          디스플레이 제조 장비  2017-04-07   \n",
       "\n",
       "  SettleMonth      Representative                       HomePage Region  \n",
       "0         03월  박종익, 김세완 (각자 대표이사)           http://www.3sref.com  서울특별시  \n",
       "1         12월                 이현우         http://www.ajnet.co.kr  서울특별시  \n",
       "2         12월   채형석, 이석주(각자 대표이사)  http://www.aekyunggroup.co.kr  서울특별시  \n",
       "3         12월                 정기로   http://www.apsholdings.co.kr    경기도  \n",
       "4         12월                 김영주     http://www.apsystems.co.kr    경기도  "
      ],
      "text/html": "<div>\n<style scoped>\n    .dataframe tbody tr th:only-of-type {\n        vertical-align: middle;\n    }\n\n    .dataframe tbody tr th {\n        vertical-align: top;\n    }\n\n    .dataframe thead th {\n        text-align: right;\n    }\n</style>\n<table border=\"1\" class=\"dataframe\">\n  <thead>\n    <tr style=\"text-align: right;\">\n      <th></th>\n      <th>Symbol</th>\n      <th>Market</th>\n      <th>Name</th>\n      <th>Sector</th>\n      <th>Industry</th>\n      <th>ListingDate</th>\n      <th>SettleMonth</th>\n      <th>Representative</th>\n      <th>HomePage</th>\n      <th>Region</th>\n    </tr>\n  </thead>\n  <tbody>\n    <tr>\n      <th>0</th>\n      <td>060310</td>\n      <td>KOSDAQ</td>\n      <td>3S</td>\n      <td>특수 목적용 기계 제조업</td>\n      <td>반도체 웨이퍼 캐리어</td>\n      <td>2002-04-23</td>\n      <td>03월</td>\n      <td>박종익, 김세완 (각자 대표이사)</td>\n      <td>http://www.3sref.com</td>\n      <td>서울특별시</td>\n    </tr>\n    <tr>\n      <th>1</th>\n      <td>095570</td>\n      <td>KOSPI</td>\n      <td>AJ네트웍스</td>\n      <td>산업용 기계 및 장비 임대업</td>\n      <td>렌탈(파렛트, OA장비, 건설장비)</td>\n      <td>2015-08-21</td>\n      <td>12월</td>\n      <td>이현우</td>\n      <td>http://www.ajnet.co.kr</td>\n      <td>서울특별시</td>\n    </tr>\n    <tr>\n      <th>2</th>\n      <td>006840</td>\n      <td>KOSPI</td>\n      <td>AK홀딩스</td>\n      <td>기타 금융업</td>\n      <td>지주사업</td>\n      <td>1999-08-11</td>\n      <td>12월</td>\n      <td>채형석, 이석주(각자 대표이사)</td>\n      <td>http://www.aekyunggroup.co.kr</td>\n      <td>서울특별시</td>\n    </tr>\n    <tr>\n      <th>3</th>\n      <td>054620</td>\n      <td>KOSDAQ</td>\n      <td>APS홀딩스</td>\n      <td>기타 금융업</td>\n      <td>인터넷 트래픽 솔루션</td>\n      <td>2001-12-04</td>\n      <td>12월</td>\n      <td>정기로</td>\n      <td>http://www.apsholdings.co.kr</td>\n      <td>경기도</td>\n    </tr>\n    <tr>\n      <th>4</th>\n      <td>265520</td>\n      <td>KOSDAQ</td>\n      <td>AP시스템</td>\n      <td>특수 목적용 기계 제조업</td>\n      <td>디스플레이 제조 장비</td>\n      <td>2017-04-07</td>\n      <td>12월</td>\n      <td>김영주</td>\n      <td>http://www.apsystems.co.kr</td>\n      <td>경기도</td>\n    </tr>\n  </tbody>\n</table>\n</div>"
     },
     "metadata": {},
     "execution_count": 13
    }
   ],
   "source": [
    "df_krx = fdr.StockListing('KRX')\n",
    "df_krx.head()"
   ]
  },
  {
   "cell_type": "code",
   "execution_count": 3,
   "metadata": {},
   "outputs": [
    {
     "output_type": "execute_result",
     "data": {
      "text/plain": [
       "              Close     Open     High      Low        Volume  Change\n",
       "Date                                                                \n",
       "2020-12-15  2756.82  2763.65  2769.37  2735.08  1.090000e+09 -0.0019\n",
       "2020-12-16  2771.79  2763.64  2781.08  2761.50  1.170000e+09  0.0054\n",
       "2020-12-17  2770.43  2769.89  2772.71  2742.25  1.020000e+09 -0.0005\n",
       "2020-12-18  2772.18  2770.95  2782.15  2762.80  1.060000e+09  0.0006\n",
       "2020-12-21  2776.56  2771.98  2780.24  2747.09  1.110000e+06  0.0016"
      ],
      "text/html": "<div>\n<style scoped>\n    .dataframe tbody tr th:only-of-type {\n        vertical-align: middle;\n    }\n\n    .dataframe tbody tr th {\n        vertical-align: top;\n    }\n\n    .dataframe thead th {\n        text-align: right;\n    }\n</style>\n<table border=\"1\" class=\"dataframe\">\n  <thead>\n    <tr style=\"text-align: right;\">\n      <th></th>\n      <th>Close</th>\n      <th>Open</th>\n      <th>High</th>\n      <th>Low</th>\n      <th>Volume</th>\n      <th>Change</th>\n    </tr>\n    <tr>\n      <th>Date</th>\n      <th></th>\n      <th></th>\n      <th></th>\n      <th></th>\n      <th></th>\n      <th></th>\n    </tr>\n  </thead>\n  <tbody>\n    <tr>\n      <th>2020-12-15</th>\n      <td>2756.82</td>\n      <td>2763.65</td>\n      <td>2769.37</td>\n      <td>2735.08</td>\n      <td>1.090000e+09</td>\n      <td>-0.0019</td>\n    </tr>\n    <tr>\n      <th>2020-12-16</th>\n      <td>2771.79</td>\n      <td>2763.64</td>\n      <td>2781.08</td>\n      <td>2761.50</td>\n      <td>1.170000e+09</td>\n      <td>0.0054</td>\n    </tr>\n    <tr>\n      <th>2020-12-17</th>\n      <td>2770.43</td>\n      <td>2769.89</td>\n      <td>2772.71</td>\n      <td>2742.25</td>\n      <td>1.020000e+09</td>\n      <td>-0.0005</td>\n    </tr>\n    <tr>\n      <th>2020-12-18</th>\n      <td>2772.18</td>\n      <td>2770.95</td>\n      <td>2782.15</td>\n      <td>2762.80</td>\n      <td>1.060000e+09</td>\n      <td>0.0006</td>\n    </tr>\n    <tr>\n      <th>2020-12-21</th>\n      <td>2776.56</td>\n      <td>2771.98</td>\n      <td>2780.24</td>\n      <td>2747.09</td>\n      <td>1.110000e+06</td>\n      <td>0.0016</td>\n    </tr>\n  </tbody>\n</table>\n</div>"
     },
     "metadata": {},
     "execution_count": 3
    }
   ],
   "source": [
    "kospi = fdr.DataReader('KS11','20201201')\n",
    "kospi.tail(5)"
   ]
  },
  {
   "cell_type": "code",
   "execution_count": 4,
   "metadata": {},
   "outputs": [
    {
     "output_type": "execute_result",
     "data": {
      "text/plain": [
       "             Close    Open    High     Low        Volume  Change\n",
       "Date                                                            \n",
       "2020-12-15  931.27  930.73  934.30  921.27  2.100000e+09  0.0019\n",
       "2020-12-16  939.65  932.41  941.45  932.41  2.000000e+09  0.0090\n",
       "2020-12-17  944.04  938.88  948.43  938.88  2.650000e+09  0.0047\n",
       "2020-12-18  947.24  945.81  948.59  942.46  2.110000e+09  0.0034\n",
       "2020-12-21  954.19  948.64  954.34  940.98  1.880000e+06  0.0073"
      ],
      "text/html": "<div>\n<style scoped>\n    .dataframe tbody tr th:only-of-type {\n        vertical-align: middle;\n    }\n\n    .dataframe tbody tr th {\n        vertical-align: top;\n    }\n\n    .dataframe thead th {\n        text-align: right;\n    }\n</style>\n<table border=\"1\" class=\"dataframe\">\n  <thead>\n    <tr style=\"text-align: right;\">\n      <th></th>\n      <th>Close</th>\n      <th>Open</th>\n      <th>High</th>\n      <th>Low</th>\n      <th>Volume</th>\n      <th>Change</th>\n    </tr>\n    <tr>\n      <th>Date</th>\n      <th></th>\n      <th></th>\n      <th></th>\n      <th></th>\n      <th></th>\n      <th></th>\n    </tr>\n  </thead>\n  <tbody>\n    <tr>\n      <th>2020-12-15</th>\n      <td>931.27</td>\n      <td>930.73</td>\n      <td>934.30</td>\n      <td>921.27</td>\n      <td>2.100000e+09</td>\n      <td>0.0019</td>\n    </tr>\n    <tr>\n      <th>2020-12-16</th>\n      <td>939.65</td>\n      <td>932.41</td>\n      <td>941.45</td>\n      <td>932.41</td>\n      <td>2.000000e+09</td>\n      <td>0.0090</td>\n    </tr>\n    <tr>\n      <th>2020-12-17</th>\n      <td>944.04</td>\n      <td>938.88</td>\n      <td>948.43</td>\n      <td>938.88</td>\n      <td>2.650000e+09</td>\n      <td>0.0047</td>\n    </tr>\n    <tr>\n      <th>2020-12-18</th>\n      <td>947.24</td>\n      <td>945.81</td>\n      <td>948.59</td>\n      <td>942.46</td>\n      <td>2.110000e+09</td>\n      <td>0.0034</td>\n    </tr>\n    <tr>\n      <th>2020-12-21</th>\n      <td>954.19</td>\n      <td>948.64</td>\n      <td>954.34</td>\n      <td>940.98</td>\n      <td>1.880000e+06</td>\n      <td>0.0073</td>\n    </tr>\n  </tbody>\n</table>\n</div>"
     },
     "metadata": {},
     "execution_count": 4
    }
   ],
   "source": [
    "kosdaq = fdr.DataReader('KQ11', '20201201')\n",
    "kosdaq.tail(5)"
   ]
  },
  {
   "cell_type": "code",
   "execution_count": 5,
   "metadata": {},
   "outputs": [
    {
     "output_type": "execute_result",
     "data": {
      "text/plain": [
       "               Close      Open      High       Low       Volume  Change\n",
       "Date                                                                   \n",
       "2020-12-14  29861.55  30123.91  30325.79  29849.15  371980000.0 -0.0062\n",
       "2020-12-15  30199.31  29919.09  30243.26  29894.95  419480000.0  0.0113\n",
       "2020-12-16  30154.54  30191.38  30236.03  30080.11  349540000.0 -0.0015\n",
       "2020-12-17  30303.37  30216.00  30323.78  30216.00  345530000.0  0.0049\n",
       "2020-12-18  30179.05  30314.26  30343.59  30029.44  798230000.0 -0.0041"
      ],
      "text/html": "<div>\n<style scoped>\n    .dataframe tbody tr th:only-of-type {\n        vertical-align: middle;\n    }\n\n    .dataframe tbody tr th {\n        vertical-align: top;\n    }\n\n    .dataframe thead th {\n        text-align: right;\n    }\n</style>\n<table border=\"1\" class=\"dataframe\">\n  <thead>\n    <tr style=\"text-align: right;\">\n      <th></th>\n      <th>Close</th>\n      <th>Open</th>\n      <th>High</th>\n      <th>Low</th>\n      <th>Volume</th>\n      <th>Change</th>\n    </tr>\n    <tr>\n      <th>Date</th>\n      <th></th>\n      <th></th>\n      <th></th>\n      <th></th>\n      <th></th>\n      <th></th>\n    </tr>\n  </thead>\n  <tbody>\n    <tr>\n      <th>2020-12-14</th>\n      <td>29861.55</td>\n      <td>30123.91</td>\n      <td>30325.79</td>\n      <td>29849.15</td>\n      <td>371980000.0</td>\n      <td>-0.0062</td>\n    </tr>\n    <tr>\n      <th>2020-12-15</th>\n      <td>30199.31</td>\n      <td>29919.09</td>\n      <td>30243.26</td>\n      <td>29894.95</td>\n      <td>419480000.0</td>\n      <td>0.0113</td>\n    </tr>\n    <tr>\n      <th>2020-12-16</th>\n      <td>30154.54</td>\n      <td>30191.38</td>\n      <td>30236.03</td>\n      <td>30080.11</td>\n      <td>349540000.0</td>\n      <td>-0.0015</td>\n    </tr>\n    <tr>\n      <th>2020-12-17</th>\n      <td>30303.37</td>\n      <td>30216.00</td>\n      <td>30323.78</td>\n      <td>30216.00</td>\n      <td>345530000.0</td>\n      <td>0.0049</td>\n    </tr>\n    <tr>\n      <th>2020-12-18</th>\n      <td>30179.05</td>\n      <td>30314.26</td>\n      <td>30343.59</td>\n      <td>30029.44</td>\n      <td>798230000.0</td>\n      <td>-0.0041</td>\n    </tr>\n  </tbody>\n</table>\n</div>"
     },
     "metadata": {},
     "execution_count": 5
    }
   ],
   "source": [
    "dowjones = fdr.DataReader('DJI', '20201201')\n",
    "dowjones.tail(5)"
   ]
  }
 ]
}