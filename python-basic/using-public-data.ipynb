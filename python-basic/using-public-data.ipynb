{
 "metadata": {
  "language_info": {
   "codemirror_mode": {
    "name": "ipython",
    "version": 3
   },
   "file_extension": ".py",
   "mimetype": "text/x-python",
   "name": "python",
   "nbconvert_exporter": "python",
   "pygments_lexer": "ipython3",
   "version": "3.7.9-final"
  },
  "orig_nbformat": 2,
  "kernelspec": {
   "name": "python3",
   "display_name": "Python 3",
   "language": "python"
  }
 },
 "nbformat": 4,
 "nbformat_minor": 2,
 "cells": [
  {
   "cell_type": "code",
   "execution_count": null,
   "metadata": {},
   "outputs": [],
   "source": [
    "# !pip install bs4\n",
    "# !pip install finance-datareader"
   ]
  },
  {
   "cell_type": "code",
   "execution_count": null,
   "metadata": {},
   "outputs": [],
   "source": [
    "import FinanceDataReader as fdr"
   ]
  },
  {
   "cell_type": "code",
   "execution_count": null,
   "metadata": {},
   "outputs": [],
   "source": [
    "krx_data = fdr.DataReader('KRX', '2010', '2011')"
   ]
  },
  {
   "cell_type": "code",
   "execution_count": null,
   "metadata": {},
   "outputs": [],
   "source": [
    "krx_data.head()"
   ]
  },
  {
   "cell_type": "code",
   "execution_count": null,
   "metadata": {},
   "outputs": [],
   "source": [
    "df_krx = fdr.StockListing('KRX')\n",
    "df_krx.head()"
   ]
  },
  {
   "cell_type": "code",
   "execution_count": null,
   "metadata": {},
   "outputs": [],
   "source": [
    "kospi = fdr.DataReader('KS11','20201201')\n",
    "# kospi.tail(5)\n",
    "kospi.values[0][0]"
   ]
  },
  {
   "cell_type": "code",
   "execution_count": null,
   "metadata": {},
   "outputs": [],
   "source": [
    "kosdaq = fdr.DataReader('KQ11', '20201201')\n",
    "kosdaq.tail(5)"
   ]
  },
  {
   "cell_type": "code",
   "execution_count": null,
   "metadata": {},
   "outputs": [],
   "source": [
    "dowjones = fdr.DataReader('DJI', '20201201')\n",
    "dowjones.tail(5)"
   ]
  },
  {
   "cell_type": "code",
   "execution_count": 2,
   "metadata": {},
   "outputs": [],
   "source": [
    "import FinanceDataReader as fdr"
   ]
  },
  {
   "cell_type": "code",
   "execution_count": 3,
   "metadata": {},
   "outputs": [
    {
     "output_type": "execute_result",
     "data": {
      "text/plain": [
       "   Symbol  Market    Name           Sector             Industry ListingDate  \\\n",
       "0  060310  KOSDAQ      3S    특수 목적용 기계 제조업          반도체 웨이퍼 캐리어  2002-04-23   \n",
       "1  095570   KOSPI  AJ네트웍스  산업용 기계 및 장비 임대업  렌탈(파렛트, OA장비, 건설장비)  2015-08-21   \n",
       "2  006840   KOSPI   AK홀딩스           기타 금융업                 지주사업  1999-08-11   \n",
       "3  054620  KOSDAQ  APS홀딩스           기타 금융업          인터넷 트래픽 솔루션  2001-12-04   \n",
       "4  265520  KOSDAQ   AP시스템    특수 목적용 기계 제조업          디스플레이 제조 장비  2017-04-07   \n",
       "\n",
       "  SettleMonth      Representative                       HomePage Region  \n",
       "0         03월  박종익, 김세완 (각자 대표이사)           http://www.3sref.com  서울특별시  \n",
       "1         12월                 이현우         http://www.ajnet.co.kr  서울특별시  \n",
       "2         12월   채형석, 이석주(각자 대표이사)  http://www.aekyunggroup.co.kr  서울특별시  \n",
       "3         12월                 정기로   http://www.apsholdings.co.kr    경기도  \n",
       "4         12월                 김영주     http://www.apsystems.co.kr    경기도  "
      ],
      "text/html": "<div>\n<style scoped>\n    .dataframe tbody tr th:only-of-type {\n        vertical-align: middle;\n    }\n\n    .dataframe tbody tr th {\n        vertical-align: top;\n    }\n\n    .dataframe thead th {\n        text-align: right;\n    }\n</style>\n<table border=\"1\" class=\"dataframe\">\n  <thead>\n    <tr style=\"text-align: right;\">\n      <th></th>\n      <th>Symbol</th>\n      <th>Market</th>\n      <th>Name</th>\n      <th>Sector</th>\n      <th>Industry</th>\n      <th>ListingDate</th>\n      <th>SettleMonth</th>\n      <th>Representative</th>\n      <th>HomePage</th>\n      <th>Region</th>\n    </tr>\n  </thead>\n  <tbody>\n    <tr>\n      <th>0</th>\n      <td>060310</td>\n      <td>KOSDAQ</td>\n      <td>3S</td>\n      <td>특수 목적용 기계 제조업</td>\n      <td>반도체 웨이퍼 캐리어</td>\n      <td>2002-04-23</td>\n      <td>03월</td>\n      <td>박종익, 김세완 (각자 대표이사)</td>\n      <td>http://www.3sref.com</td>\n      <td>서울특별시</td>\n    </tr>\n    <tr>\n      <th>1</th>\n      <td>095570</td>\n      <td>KOSPI</td>\n      <td>AJ네트웍스</td>\n      <td>산업용 기계 및 장비 임대업</td>\n      <td>렌탈(파렛트, OA장비, 건설장비)</td>\n      <td>2015-08-21</td>\n      <td>12월</td>\n      <td>이현우</td>\n      <td>http://www.ajnet.co.kr</td>\n      <td>서울특별시</td>\n    </tr>\n    <tr>\n      <th>2</th>\n      <td>006840</td>\n      <td>KOSPI</td>\n      <td>AK홀딩스</td>\n      <td>기타 금융업</td>\n      <td>지주사업</td>\n      <td>1999-08-11</td>\n      <td>12월</td>\n      <td>채형석, 이석주(각자 대표이사)</td>\n      <td>http://www.aekyunggroup.co.kr</td>\n      <td>서울특별시</td>\n    </tr>\n    <tr>\n      <th>3</th>\n      <td>054620</td>\n      <td>KOSDAQ</td>\n      <td>APS홀딩스</td>\n      <td>기타 금융업</td>\n      <td>인터넷 트래픽 솔루션</td>\n      <td>2001-12-04</td>\n      <td>12월</td>\n      <td>정기로</td>\n      <td>http://www.apsholdings.co.kr</td>\n      <td>경기도</td>\n    </tr>\n    <tr>\n      <th>4</th>\n      <td>265520</td>\n      <td>KOSDAQ</td>\n      <td>AP시스템</td>\n      <td>특수 목적용 기계 제조업</td>\n      <td>디스플레이 제조 장비</td>\n      <td>2017-04-07</td>\n      <td>12월</td>\n      <td>김영주</td>\n      <td>http://www.apsystems.co.kr</td>\n      <td>경기도</td>\n    </tr>\n  </tbody>\n</table>\n</div>"
     },
     "metadata": {},
     "execution_count": 3
    }
   ],
   "source": [
    "krx_data = fdr.StockListing(\"KRX\")\n",
    "krx_data.head()"
   ]
  },
  {
   "cell_type": "code",
   "execution_count": 4,
   "metadata": {},
   "outputs": [],
   "source": [
    "krx_data.to_csv('stocks-master.csv', index=False)"
   ]
  },
  {
   "cell_type": "code",
   "execution_count": 5,
   "metadata": {},
   "outputs": [],
   "source": [
    "import csv\n",
    "import re\n",
    "stocks_master = []\n",
    "with open('stocks-master.csv', encoding='utf-8') as f:\n",
    "    reader = csv.reader(f)\n",
    "    header = next(reader)\n",
    "    for line in reader:\n",
    "        line[6] = re.sub(r'[^0-9]','',line[6]) # [6]번째 데이터에서 숫자가 아닌 문자 제거: 03월 -> 03\n",
    "        stocks_master.append(line)"
   ]
  },
  {
   "cell_type": "code",
   "execution_count": 7,
   "metadata": {},
   "outputs": [
    {
     "output_type": "execute_result",
     "data": {
      "text/plain": [
       "['095570',\n",
       " 'KOSPI',\n",
       " 'AJ네트웍스',\n",
       " '산업용 기계 및 장비 임대업',\n",
       " '렌탈(파렛트, OA장비, 건설장비)',\n",
       " '2015-08-21',\n",
       " '12',\n",
       " '이현우',\n",
       " 'http://www.ajnet.co.kr',\n",
       " '서울특별시']"
      ]
     },
     "metadata": {},
     "execution_count": 7
    }
   ],
   "source": [
    "stocks_master[1]"
   ]
  },
  {
   "cell_type": "code",
   "execution_count": 12,
   "metadata": {},
   "outputs": [],
   "source": [
    "import pymysql\n",
    "\n",
    "connection_info = { 'host': 'localhost', 'user': 'root', 'password': 'Wnalsrl1210', 'db': 'dashboarddb', 'charset': 'utf8' }\n",
    "        \n",
    "conn = pymysql.connect(**connection_info)\n",
    "cursor = conn.cursor()\n",
    "\n",
    "sql = 'CREATE TABLE IF NOT EXISTS stock_stockmaster (Symbol varchar(10), Market varchar(20), Name varchar(50), Sector varchar(50), Industry varchar(200), ListingDate varchar(10), SettleMonth char(2), Representative varchar(100), HomePage varchar(50), Region varchar (50))'\n",
    "cursor.execute(sql)\n",
    "\n",
    "sql = 'DELETE FROM stocks_stockmaster'\n",
    "cursor.execute(sql)\n",
    "\n",
    "sql = 'INSERT INTO stocks_stockmaster VALUES(%s, %s, %s, %s, %s, %s, %s, %s, %s, %s)'\n",
    "cursor.executemany(sql, stocks_master)\n",
    "\n",
    "conn.commit()\n",
    "\n",
    "conn.close()"
   ]
  },
  {
   "cell_type": "code",
   "execution_count": null,
   "metadata": {},
   "outputs": [],
   "source": []
  }
 ]
}