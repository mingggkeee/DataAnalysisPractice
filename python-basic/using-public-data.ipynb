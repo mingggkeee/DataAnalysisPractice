{
 "metadata": {
  "language_info": {
   "codemirror_mode": {
    "name": "ipython",
    "version": 3
   },
   "file_extension": ".py",
   "mimetype": "text/x-python",
   "name": "python",
   "nbconvert_exporter": "python",
   "pygments_lexer": "ipython3",
   "version": "3.7.9-final"
  },
  "orig_nbformat": 2,
  "kernelspec": {
   "name": "python3",
   "display_name": "Python 3",
   "language": "python"
  }
 },
 "nbformat": 4,
 "nbformat_minor": 2,
 "cells": [
  {
   "cell_type": "code",
   "execution_count": null,
   "metadata": {},
   "outputs": [],
   "source": [
    "# !pip install bs4\n",
    "# !pip install finance-datareader"
   ]
  },
  {
   "cell_type": "code",
   "execution_count": null,
   "metadata": {},
   "outputs": [],
   "source": [
    "import FinanceDataReader as fdr"
   ]
  },
  {
   "cell_type": "code",
   "execution_count": null,
   "metadata": {},
   "outputs": [],
   "source": [
    "krx_data = fdr.DataReader('KRX', '2010', '2011')"
   ]
  },
  {
   "cell_type": "code",
   "execution_count": null,
   "metadata": {},
   "outputs": [],
   "source": [
    "krx_data.head()"
   ]
  },
  {
   "cell_type": "code",
   "execution_count": null,
   "metadata": {},
   "outputs": [],
   "source": [
    "df_krx = fdr.StockListing('KRX')\n",
    "df_krx.head()"
   ]
  },
  {
   "cell_type": "code",
   "execution_count": null,
   "metadata": {},
   "outputs": [],
   "source": [
    "kospi = fdr.DataReader('KS11','20201201')\n",
    "# kospi.tail(5)\n",
    "kospi.values[0][0]"
   ]
  },
  {
   "cell_type": "code",
   "execution_count": null,
   "metadata": {},
   "outputs": [],
   "source": [
    "kosdaq = fdr.DataReader('KQ11', '20201201')\n",
    "kosdaq.tail(5)"
   ]
  },
  {
   "cell_type": "code",
   "execution_count": null,
   "metadata": {},
   "outputs": [],
   "source": [
    "dowjones = fdr.DataReader('DJI', '20201201')\n",
    "dowjones.tail(5)"
   ]
  },
  {
   "cell_type": "code",
   "execution_count": null,
   "metadata": {},
   "outputs": [],
   "source": [
    "import FinanceDataReader as fdr"
   ]
  },
  {
   "cell_type": "code",
   "execution_count": null,
   "metadata": {},
   "outputs": [],
   "source": [
    "krx_data = fdr.StockListing(\"KRX\")\n",
    "krx_data.head()"
   ]
  },
  {
   "cell_type": "code",
   "execution_count": null,
   "metadata": {},
   "outputs": [],
   "source": [
    "krx_data.to_csv('stocks-master.csv', index=False)"
   ]
  },
  {
   "cell_type": "code",
   "execution_count": null,
   "metadata": {},
   "outputs": [],
   "source": [
    "import csv\n",
    "import re\n",
    "stocks_master = []\n",
    "with open('stocks-master.csv', encoding='utf-8') as f:\n",
    "    reader = csv.reader(f)\n",
    "    header = next(reader)\n",
    "    for line in reader:\n",
    "        line[6] = re.sub(r'[^0-9]','',line[6]) # [6]번째 데이터에서 숫자가 아닌 문자 제거: 03월 -> 03\n",
    "        stocks_master.append(line)"
   ]
  },
  {
   "cell_type": "code",
   "execution_count": null,
   "metadata": {},
   "outputs": [],
   "source": [
    "stocks_master[1]"
   ]
  },
  {
   "cell_type": "code",
   "execution_count": null,
   "metadata": {},
   "outputs": [],
   "source": [
    "import pymysql\n",
    "\n",
    "connection_info = { 'host': 'localhost', 'user': 'root', 'password': 'Wnalsrl1210', 'db': 'dashboarddb', 'charset': 'utf8' }\n",
    "        \n",
    "conn = pymysql.connect(**connection_info)\n",
    "cursor = conn.cursor()\n",
    "\n",
    "sql = 'CREATE TABLE IF NOT EXISTS stock_stockmaster (Symbol varchar(10), Market varchar(20), Name varchar(50), Sector varchar(50), Industry varchar(200), ListingDate varchar(10), SettleMonth char(2), Representative varchar(100), HomePage varchar(50), Region varchar (50))'\n",
    "cursor.execute(sql)\n",
    "\n",
    "sql = 'DELETE FROM stocks_stockmaster'\n",
    "cursor.execute(sql)\n",
    "\n",
    "sql = 'INSERT INTO stocks_stockmaster VALUES(%s, %s, %s, %s, %s, %s, %s, %s, %s, %s)'\n",
    "cursor.executemany(sql, stocks_master)\n",
    "\n",
    "conn.commit()\n",
    "\n",
    "conn.close()"
   ]
  },
  {
   "cell_type": "code",
   "execution_count": null,
   "metadata": {},
   "outputs": [],
   "source": [
    "import requests\n",
    "\n",
    "url = 'http://openapi.data.go.kr/openapi/service/rest/Covid19/getCovid19SidoInfStateJson'\n",
    "api_key = '4tXhLMDn4%2BurQf1HK5WUt0Y5duMWehSLngk1lzHV4hErl8hrKNCopi6tBU5G8w8O2At3vYb%2Fi2u9h%2BrOq9WQJA%3D%3D'\n",
    "# http://localhost:8000/a/b/c?name=x&age=30\n",
    "qs = 'ServiceKey={0}&pageNo={1}&numOfRows={2}&startCreateDt={3}&endCreateDt{4}'.format(api_key, 1, 10, '20201201', '20201222')\n",
    "\n",
    "response = requests.get(url + '?' + qs)"
   ]
  },
  {
   "cell_type": "code",
   "execution_count": null,
   "metadata": {},
   "outputs": [],
   "source": [
    "# response.content"
   ]
  },
  {
   "cell_type": "code",
   "execution_count": null,
   "metadata": {},
   "outputs": [],
   "source": [
    "!pip install xmltodict"
   ]
  },
  {
   "cell_type": "code",
   "execution_count": null,
   "metadata": {},
   "outputs": [],
   "source": [
    "import xmltodict\n",
    "import json"
   ]
  },
  {
   "cell_type": "code",
   "execution_count": null,
   "metadata": {},
   "outputs": [],
   "source": [
    "response_dict = xmltodict.parse(response.content)   # xml -> orderddict"
   ]
  },
  {
   "cell_type": "code",
   "execution_count": null,
   "metadata": {},
   "outputs": [],
   "source": [
    "# response_dict"
   ]
  },
  {
   "cell_type": "code",
   "execution_count": null,
   "metadata": {},
   "outputs": [],
   "source": [
    "response_json = json.dumps(response_dict, ensure_ascii=False)   # oredreddict -> json-string"
   ]
  },
  {
   "cell_type": "code",
   "execution_count": null,
   "metadata": {},
   "outputs": [],
   "source": [
    "# response_json"
   ]
  },
  {
   "cell_type": "code",
   "execution_count": null,
   "metadata": {},
   "outputs": [],
   "source": [
    "response_dict2 = json.loads(response_json) # json-string -> general dict"
   ]
  },
  {
   "cell_type": "code",
   "execution_count": null,
   "metadata": {},
   "outputs": [],
   "source": [
    "# response_dict2\n",
    "type(response_dict2)"
   ]
  },
  {
   "cell_type": "code",
   "execution_count": 38,
   "metadata": {},
   "outputs": [],
   "source": [
    "# response_dict2.keys()\n",
    "# response_dict2['response'].keys()\n",
    "# response_dict2['response']['body'].keys()\n",
    "# response_dict2['response']['body']['items'].keys()\n",
    "values = response_dict2['response']['body']['items']['item']"
   ]
  },
  {
   "cell_type": "code",
   "execution_count": 40,
   "metadata": {},
   "outputs": [
    {
     "output_type": "stream",
     "name": "stdout",
     "text": [
      "<class 'list'>\n475\n"
     ]
    },
    {
     "output_type": "execute_result",
     "data": {
      "text/plain": [
       "{'createDt': '2020-12-22 14:41:34.444',\n",
       " 'deathCnt': '1',\n",
       " 'defCnt': '2361',\n",
       " 'gubun': '검역',\n",
       " 'gubunCn': '隔離區',\n",
       " 'gubunEn': 'Lazaretto',\n",
       " 'incDec': '18',\n",
       " 'isolClearCnt': '1658',\n",
       " 'isolIngCnt': '702',\n",
       " 'localOccCnt': '0',\n",
       " 'overFlowCnt': '18',\n",
       " 'qurRate': '-',\n",
       " 'seq': '6524',\n",
       " 'stdDay': '2020년 12월 22일 00시',\n",
       " 'updateDt': 'null'}"
      ]
     },
     "metadata": {},
     "execution_count": 40
    }
   ],
   "source": [
    "print(type(values))\n",
    "print(len(values))\n",
    "values[0]"
   ]
  },
  {
   "cell_type": "code",
   "execution_count": null,
   "metadata": {},
   "outputs": [],
   "source": []
  }
 ]
}